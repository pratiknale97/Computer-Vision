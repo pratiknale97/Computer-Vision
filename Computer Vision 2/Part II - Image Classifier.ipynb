{
 "cells": [
  {
   "cell_type": "markdown",
   "metadata": {
    "id": "7AIJJmzDcARr"
   },
   "source": [
    "# Part2"
   ]
  },
  {
   "cell_type": "code",
   "execution_count": 1,
   "metadata": {
    "colab": {
     "base_uri": "https://localhost:8080/"
    },
    "executionInfo": {
     "elapsed": 302,
     "status": "ok",
     "timestamp": 1621784439421,
     "user": {
      "displayName": "Pratik Nale",
      "photoUrl": "",
      "userId": "15885426099621082360"
     },
     "user_tz": -330
    },
    "id": "Uszgo1Lr4nEl",
    "outputId": "810d75be-ca4d-4e65-a1a0-cedcb5221003"
   },
   "outputs": [
    {
     "name": "stdout",
     "output_type": "stream",
     "text": [
      "Drive already mounted at /content/drive; to attempt to forcibly remount, call drive.mount(\"/content/drive\", force_remount=True).\n"
     ]
    }
   ],
   "source": [
    "from google.colab import drive\n",
    "drive.mount('/content/drive')"
   ]
  },
  {
   "cell_type": "code",
   "execution_count": 2,
   "metadata": {
    "executionInfo": {
     "elapsed": 2533,
     "status": "ok",
     "timestamp": 1621784443580,
     "user": {
      "displayName": "Pratik Nale",
      "photoUrl": "",
      "userId": "15885426099621082360"
     },
     "user_tz": -330
    },
    "id": "DYZnKnQl7DzK"
   },
   "outputs": [],
   "source": [
    "import os\n",
    "import cv2\n",
    "import dlib\n",
    "import logging\n",
    "import numpy as np\n",
    "import pandas as pd\n",
    "import tensorflow as tf\n",
    "from termcolor import colored\n",
    "from google.colab.patches import cv2_imshow\n",
    "logging.getLogger('tensorflow').disabled = True"
   ]
  },
  {
   "cell_type": "code",
   "execution_count": 3,
   "metadata": {
    "colab": {
     "base_uri": "https://localhost:8080/"
    },
    "executionInfo": {
     "elapsed": 6,
     "status": "ok",
     "timestamp": 1621784445415,
     "user": {
      "displayName": "Pratik Nale",
      "photoUrl": "",
      "userId": "15885426099621082360"
     },
     "user_tz": -330
    },
    "id": "wd6KxdQrUGIa",
    "outputId": "5e0f2e22-ad65-4c76-bf53-e89c616790a8"
   },
   "outputs": [
    {
     "name": "stdout",
     "output_type": "stream",
     "text": [
      "\u001b[34m\u001b[1mPath of dataset from drive.....\u001b[0m\n",
      "\u001b[32m\u001b[1mNot running again as Unziping is already done....\u001b[0m\n"
     ]
    }
   ],
   "source": [
    "print(colored('\\x1B[1mPath of dataset from drive.....','blue'))\n",
    "#!unzip '/content/drive/MyDrive/Files/Part 2 - training images.zip' -d '/content/drive/MyDrive/Files/Output/'\n",
    "print(colored('\\x1B[1mNot running again as Unziping is already done....','green'))"
   ]
  },
  {
   "cell_type": "code",
   "execution_count": 4,
   "metadata": {
    "colab": {
     "base_uri": "https://localhost:8080/"
    },
    "executionInfo": {
     "elapsed": 6,
     "status": "ok",
     "timestamp": 1621784447178,
     "user": {
      "displayName": "Pratik Nale",
      "photoUrl": "",
      "userId": "15885426099621082360"
     },
     "user_tz": -330
    },
    "id": "bc116FoZnmmF",
    "outputId": "5ef62490-f216-4cf3-d56a-db777881a15c"
   },
   "outputs": [
    {
     "name": "stdout",
     "output_type": "stream",
     "text": [
      "\u001b[34m\u001b[1mPath of Images\u001b[0m\n"
     ]
    }
   ],
   "source": [
    "print(colored('\\x1B[1mPath of Images','blue'))\n",
    "train_img = '/content/drive/MyDrive/Files/Output/training_images/'"
   ]
  },
  {
   "cell_type": "code",
   "execution_count": 5,
   "metadata": {
    "colab": {
     "base_uri": "https://localhost:8080/"
    },
    "executionInfo": {
     "elapsed": 907874,
     "status": "ok",
     "timestamp": 1621785356747,
     "user": {
      "displayName": "Pratik Nale",
      "photoUrl": "",
      "userId": "15885426099621082360"
     },
     "user_tz": -330
    },
    "id": "PQkhbOVUPvgF",
    "outputId": "0b1dad2d-a7f3-40c6-cc15-edb490d29fba"
   },
   "outputs": [
    {
     "name": "stdout",
     "output_type": "stream",
     "text": [
      "\u001b[32m\u001b[1mUsing hogFaceDetector for detecting of face\u001b[0m\n"
     ]
    }
   ],
   "source": [
    "print(colored('\\x1B[1mUsing hogFaceDetector for detecting of face','green'))\n",
    "img_name = []\n",
    "no_of_faces = []\n",
    "cx = []\n",
    "cy = []\n",
    "cw = []\n",
    "ch = []\n",
    "non_detected = []\n",
    "\n",
    "#Iterating through each image in the folder 'train_img'\n",
    "for image in os.listdir(train_img):\n",
    "\n",
    "  #Reading the image\n",
    "  img = cv2.imread(os.path.join(train_img+image), cv2.IMREAD_COLOR)\n",
    "  \n",
    "  #Initializing Object\n",
    "  hogFaceDetector = dlib.get_frontal_face_detector()\n",
    "  faces = hogFaceDetector(img, 0)\n",
    " \n",
    "  # If no faces detected else append co-ordinates\n",
    "  if len(faces) == 0:\n",
    "    non_detected.append(image)\n",
    "\n",
    "  else:\n",
    "    #Iterating through teh co-ordinates of the faces detected in an image\n",
    "    for face in faces:\n",
    "      x = face.left() #Ymin\n",
    "      y = face.top() #Xmin\n",
    "      w = face.right() - face.left() #Xmax\n",
    "      h = face.bottom() - face.top() #Ymax\n",
    "\n",
    "      cx.append(x)\n",
    "      cy.append(y)\n",
    "      cw.append(w)\n",
    "      ch.append(h)\n",
    "\n",
    "    no_of_faces.append(len(faces))  # Appending total number of faces\n",
    "    img_name.append(image)   # Appending Image file name"
   ]
  },
  {
   "cell_type": "code",
   "execution_count": 6,
   "metadata": {
    "colab": {
     "base_uri": "https://localhost:8080/"
    },
    "executionInfo": {
     "elapsed": 338,
     "status": "ok",
     "timestamp": 1621785444214,
     "user": {
      "displayName": "Pratik Nale",
      "photoUrl": "",
      "userId": "15885426099621082360"
     },
     "user_tz": -330
    },
    "id": "gngOCG4vtzEv",
    "outputId": "bae2c5bb-3fe6-48cf-d98c-26ab72cbb106"
   },
   "outputs": [
    {
     "name": "stdout",
     "output_type": "stream",
     "text": [
      "\u001b[34m\u001b[1mTotal number of faces not detected are\u001b[0m\n"
     ]
    },
    {
     "data": {
      "text/plain": [
       "14"
      ]
     },
     "execution_count": 6,
     "metadata": {
      "tags": []
     },
     "output_type": "execute_result"
    }
   ],
   "source": [
    "print(colored('\\x1B[1mTotal number of faces not detected are','blue'))\n",
    "len(image)"
   ]
  },
  {
   "cell_type": "code",
   "execution_count": 7,
   "metadata": {
    "colab": {
     "base_uri": "https://localhost:8080/"
    },
    "executionInfo": {
     "elapsed": 364,
     "status": "ok",
     "timestamp": 1621785448741,
     "user": {
      "displayName": "Pratik Nale",
      "photoUrl": "",
      "userId": "15885426099621082360"
     },
     "user_tz": -330
    },
    "id": "hJN8iaRPtyLR",
    "outputId": "3062b756-b0b7-4898-af30-96725656736e"
   },
   "outputs": [
    {
     "name": "stdout",
     "output_type": "stream",
     "text": [
      "\u001b[34m\u001b[1mCreating the dataframe as required\u001b[0m\n"
     ]
    }
   ],
   "source": [
    "print(colored('\\x1B[1mCreating the dataframe as required','blue'))\n",
    "df = pd.DataFrame(list(zip(cw,cy,cw,ch,no_of_faces,img_name )),\n",
    "               columns =['X','Y','W','H','Total_Faces','Image_Name'])"
   ]
  },
  {
   "cell_type": "code",
   "execution_count": 8,
   "metadata": {
    "colab": {
     "base_uri": "https://localhost:8080/",
     "height": 407
    },
    "executionInfo": {
     "elapsed": 367,
     "status": "ok",
     "timestamp": 1621785452945,
     "user": {
      "displayName": "Pratik Nale",
      "photoUrl": "",
      "userId": "15885426099621082360"
     },
     "user_tz": -330
    },
    "id": "2RT9vZmDuGHO",
    "outputId": "3aca7245-9c50-4a61-92c8-b47adf3e7f80"
   },
   "outputs": [
    {
     "data": {
      "text/html": [
       "<div>\n",
       "<style scoped>\n",
       "    .dataframe tbody tr th:only-of-type {\n",
       "        vertical-align: middle;\n",
       "    }\n",
       "\n",
       "    .dataframe tbody tr th {\n",
       "        vertical-align: top;\n",
       "    }\n",
       "\n",
       "    .dataframe thead th {\n",
       "        text-align: right;\n",
       "    }\n",
       "</style>\n",
       "<table border=\"1\" class=\"dataframe\">\n",
       "  <thead>\n",
       "    <tr style=\"text-align: right;\">\n",
       "      <th></th>\n",
       "      <th>X</th>\n",
       "      <th>Y</th>\n",
       "      <th>W</th>\n",
       "      <th>H</th>\n",
       "      <th>Total_Faces</th>\n",
       "      <th>Image_Name</th>\n",
       "    </tr>\n",
       "  </thead>\n",
       "  <tbody>\n",
       "    <tr>\n",
       "      <th>0</th>\n",
       "      <td>446</td>\n",
       "      <td>138</td>\n",
       "      <td>446</td>\n",
       "      <td>446</td>\n",
       "      <td>1</td>\n",
       "      <td>real_00082.jpg</td>\n",
       "    </tr>\n",
       "    <tr>\n",
       "      <th>1</th>\n",
       "      <td>309</td>\n",
       "      <td>233</td>\n",
       "      <td>309</td>\n",
       "      <td>309</td>\n",
       "      <td>1</td>\n",
       "      <td>real_00049.jpg</td>\n",
       "    </tr>\n",
       "    <tr>\n",
       "      <th>2</th>\n",
       "      <td>309</td>\n",
       "      <td>233</td>\n",
       "      <td>309</td>\n",
       "      <td>309</td>\n",
       "      <td>1</td>\n",
       "      <td>real_00107.jpg</td>\n",
       "    </tr>\n",
       "    <tr>\n",
       "      <th>3</th>\n",
       "      <td>446</td>\n",
       "      <td>138</td>\n",
       "      <td>446</td>\n",
       "      <td>446</td>\n",
       "      <td>1</td>\n",
       "      <td>real_00066.jpg</td>\n",
       "    </tr>\n",
       "    <tr>\n",
       "      <th>4</th>\n",
       "      <td>446</td>\n",
       "      <td>138</td>\n",
       "      <td>446</td>\n",
       "      <td>446</td>\n",
       "      <td>1</td>\n",
       "      <td>real_00099.jpg</td>\n",
       "    </tr>\n",
       "    <tr>\n",
       "      <th>...</th>\n",
       "      <td>...</td>\n",
       "      <td>...</td>\n",
       "      <td>...</td>\n",
       "      <td>...</td>\n",
       "      <td>...</td>\n",
       "      <td>...</td>\n",
       "    </tr>\n",
       "    <tr>\n",
       "      <th>1014</th>\n",
       "      <td>372</td>\n",
       "      <td>197</td>\n",
       "      <td>372</td>\n",
       "      <td>372</td>\n",
       "      <td>1</td>\n",
       "      <td>real_00154.jpg</td>\n",
       "    </tr>\n",
       "    <tr>\n",
       "      <th>1015</th>\n",
       "      <td>372</td>\n",
       "      <td>197</td>\n",
       "      <td>372</td>\n",
       "      <td>372</td>\n",
       "      <td>1</td>\n",
       "      <td>real_00059.jpg</td>\n",
       "    </tr>\n",
       "    <tr>\n",
       "      <th>1016</th>\n",
       "      <td>413</td>\n",
       "      <td>156</td>\n",
       "      <td>413</td>\n",
       "      <td>371</td>\n",
       "      <td>1</td>\n",
       "      <td>real_00081.jpg</td>\n",
       "    </tr>\n",
       "    <tr>\n",
       "      <th>1017</th>\n",
       "      <td>371</td>\n",
       "      <td>238</td>\n",
       "      <td>371</td>\n",
       "      <td>372</td>\n",
       "      <td>1</td>\n",
       "      <td>real_00093.jpg</td>\n",
       "    </tr>\n",
       "    <tr>\n",
       "      <th>1018</th>\n",
       "      <td>446</td>\n",
       "      <td>88</td>\n",
       "      <td>446</td>\n",
       "      <td>446</td>\n",
       "      <td>1</td>\n",
       "      <td>real_00055.jpg</td>\n",
       "    </tr>\n",
       "  </tbody>\n",
       "</table>\n",
       "<p>1019 rows × 6 columns</p>\n",
       "</div>"
      ],
      "text/plain": [
       "        X    Y    W    H  Total_Faces      Image_Name\n",
       "0     446  138  446  446            1  real_00082.jpg\n",
       "1     309  233  309  309            1  real_00049.jpg\n",
       "2     309  233  309  309            1  real_00107.jpg\n",
       "3     446  138  446  446            1  real_00066.jpg\n",
       "4     446  138  446  446            1  real_00099.jpg\n",
       "...   ...  ...  ...  ...          ...             ...\n",
       "1014  372  197  372  372            1  real_00154.jpg\n",
       "1015  372  197  372  372            1  real_00059.jpg\n",
       "1016  413  156  413  371            1  real_00081.jpg\n",
       "1017  371  238  371  372            1  real_00093.jpg\n",
       "1018  446   88  446  446            1  real_00055.jpg\n",
       "\n",
       "[1019 rows x 6 columns]"
      ]
     },
     "execution_count": 8,
     "metadata": {
      "tags": []
     },
     "output_type": "execute_result"
    }
   ],
   "source": [
    "df"
   ]
  }
 ],
 "metadata": {
  "accelerator": "TPU",
  "colab": {
   "collapsed_sections": [],
   "name": " Part II - Image Classifier.ipynb",
   "provenance": []
  },
  "kernelspec": {
   "display_name": "Python 3",
   "language": "python",
   "name": "python3"
  },
  "language_info": {
   "codemirror_mode": {
    "name": "ipython",
    "version": 3
   },
   "file_extension": ".py",
   "mimetype": "text/x-python",
   "name": "python",
   "nbconvert_exporter": "python",
   "pygments_lexer": "ipython3",
   "version": "3.8.5"
  }
 },
 "nbformat": 4,
 "nbformat_minor": 1
}
